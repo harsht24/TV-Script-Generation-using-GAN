{
  "nbformat": 4,
  "nbformat_minor": 0,
  "metadata": {
    "kernelspec": {
      "display_name": "Python 3",
      "language": "python",
      "name": "python3"
    },
    "language_info": {
      "codemirror_mode": {
        "name": "ipython",
        "version": 3
      },
      "file_extension": ".py",
      "mimetype": "text/x-python",
      "name": "python",
      "nbconvert_exporter": "python",
      "pygments_lexer": "ipython3",
      "version": "3.7.7"
    },
    "toc": {
      "base_numbering": 1,
      "nav_menu": {},
      "number_sections": false,
      "sideBar": true,
      "skip_h1_title": false,
      "title_cell": "Table of Contents",
      "title_sidebar": "Contents",
      "toc_cell": false,
      "toc_position": {},
      "toc_section_display": true,
      "toc_window_display": false
    },
    "varInspector": {
      "cols": {
        "lenName": 16,
        "lenType": 16,
        "lenVar": 40
      },
      "kernels_config": {
        "python": {
          "delete_cmd_postfix": "",
          "delete_cmd_prefix": "del ",
          "library": "var_list.py",
          "varRefreshCmd": "print(var_dic_list())"
        },
        "r": {
          "delete_cmd_postfix": ") ",
          "delete_cmd_prefix": "rm(",
          "library": "var_list.r",
          "varRefreshCmd": "cat(var_dic_list()) "
        }
      },
      "types_to_exclude": [
        "module",
        "function",
        "builtin_function_or_method",
        "instance",
        "_Feature"
      ],
      "window_display": false
    },
    "colab": {
      "name": "main.ipynb",
      "provenance": []
    },
    "accelerator": "GPU"
  },
  "cells": [
    {
      "cell_type": "code",
      "metadata": {
        "ExecuteTime": {
          "end_time": "2020-06-14T14:23:50.556478Z",
          "start_time": "2020-06-14T14:23:00.625554Z"
        },
        "id": "252LayooSnDS",
        "colab_type": "code",
        "colab": {}
      },
      "source": [
        "import numpy as np\n",
        "import pandas as pd\n",
        "import matplotlib.pyplot as plt"
      ],
      "execution_count": 15,
      "outputs": []
    },
    {
      "cell_type": "code",
      "metadata": {
        "id": "xqfEzYYSSp3w",
        "colab_type": "code",
        "colab": {
          "resources": {
            "http://localhost:8080/nbextensions/google.colab/files.js": {
              "data": "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",
              "ok": true,
              "headers": [
                [
                  "content-type",
                  "application/javascript"
                ]
              ],
              "status": 200,
              "status_text": ""
            }
          },
          "base_uri": "https://localhost:8080/",
          "height": 72
        },
        "outputId": "a7b8ffe9-5227-4f6a-f094-77c3ad9b18b6"
      },
      "source": [
        "from google.colab import files\n",
        "src = list(files.upload().values())[0]\n",
        "open('mylib.py','wb').write(src)\n",
        "import mylib"
      ],
      "execution_count": 2,
      "outputs": [
        {
          "output_type": "display_data",
          "data": {
            "text/html": [
              "\n",
              "     <input type=\"file\" id=\"files-2cb7aa05-d4e0-4812-b469-53f47d69c7c5\" name=\"files[]\" multiple disabled\n",
              "        style=\"border:none\" />\n",
              "     <output id=\"result-2cb7aa05-d4e0-4812-b469-53f47d69c7c5\">\n",
              "      Upload widget is only available when the cell has been executed in the\n",
              "      current browser session. Please rerun this cell to enable.\n",
              "      </output>\n",
              "      <script src=\"/nbextensions/google.colab/files.js\"></script> "
            ],
            "text/plain": [
              "<IPython.core.display.HTML object>"
            ]
          },
          "metadata": {
            "tags": []
          }
        },
        {
          "output_type": "stream",
          "text": [
            "Saving helper.py to helper.py\n"
          ],
          "name": "stdout"
        }
      ]
    },
    {
      "cell_type": "code",
      "metadata": {
        "ExecuteTime": {
          "end_time": "2020-06-14T14:24:43.493536Z",
          "start_time": "2020-06-14T14:24:43.448054Z"
        },
        "id": "xLUFyjPVSnDV",
        "colab_type": "code",
        "colab": {
          "base_uri": "https://localhost:8080/",
          "height": 34
        },
        "outputId": "7c7d4813-9eca-41de-e81f-39b7004eaf70"
      },
      "source": [
        "data_path = \"seinfeld_script.txt\"\n",
        "TEXT = mylib.load_data(data_path)\n",
        "TEXT[:100]"
      ],
      "execution_count": 4,
      "outputs": [
        {
          "output_type": "execute_result",
          "data": {
            "text/plain": [
              "'jerry: do you know what this is all about? do you know, why were here? to be out, this is out...and '"
            ]
          },
          "metadata": {
            "tags": []
          },
          "execution_count": 4
        }
      ]
    },
    {
      "cell_type": "markdown",
      "metadata": {
        "id": "bNygpMZdSnDY",
        "colab_type": "text"
      },
      "source": [
        "### Explore Data"
      ]
    },
    {
      "cell_type": "code",
      "metadata": {
        "ExecuteTime": {
          "end_time": "2020-06-14T14:27:18.060519Z",
          "start_time": "2020-06-14T14:27:17.915746Z"
        },
        "id": "_ICPgqO8SnDZ",
        "colab_type": "code",
        "colab": {
          "base_uri": "https://localhost:8080/",
          "height": 34
        },
        "outputId": "6359c7c3-1939-42ee-beea-4904398cabc0"
      },
      "source": [
        "view_sentence_range = (0, 10)\n",
        "unique_words = len({word: None for word in TEXT.split(\" \")})\n",
        "print(\"Unique Words : {}\".format(unique_words))"
      ],
      "execution_count": 5,
      "outputs": [
        {
          "output_type": "stream",
          "text": [
            "Unique Words : 46713\n"
          ],
          "name": "stdout"
        }
      ]
    },
    {
      "cell_type": "code",
      "metadata": {
        "ExecuteTime": {
          "end_time": "2020-06-14T14:34:15.451655Z",
          "start_time": "2020-06-14T14:34:15.431658Z"
        },
        "id": "WDLkZGnySnDb",
        "colab_type": "code",
        "colab": {
          "base_uri": "https://localhost:8080/",
          "height": 34
        },
        "outputId": "e00dc17d-34c9-40f1-d6de-f36bc4706d18"
      },
      "source": [
        "num_scene = TEXT.split(\"\\n\\n\")\n",
        "print(\"Number of scenes : {}\".format(len(num_scene)))"
      ],
      "execution_count": 6,
      "outputs": [
        {
          "output_type": "stream",
          "text": [
            "Number of scenes : 54617\n"
          ],
          "name": "stdout"
        }
      ]
    },
    {
      "cell_type": "code",
      "metadata": {
        "ExecuteTime": {
          "end_time": "2020-06-14T14:38:06.877268Z",
          "start_time": "2020-06-14T14:38:06.845313Z"
        },
        "id": "erFyoRSbSnDe",
        "colab_type": "code",
        "colab": {
          "base_uri": "https://localhost:8080/",
          "height": 34
        },
        "outputId": "075cf8d2-8d48-469a-cca7-d54913d44ad4"
      },
      "source": [
        "sentences = [sentence for scene in num_scene for sentence in scene.split('\\n')]\n",
        "print(\"Number of lines : {}\".format(len(sentences)))"
      ],
      "execution_count": 7,
      "outputs": [
        {
          "output_type": "stream",
          "text": [
            "Number of lines : 54617\n"
          ],
          "name": "stdout"
        }
      ]
    },
    {
      "cell_type": "code",
      "metadata": {
        "ExecuteTime": {
          "end_time": "2020-06-14T14:37:50.965847Z",
          "start_time": "2020-06-14T14:37:50.901854Z"
        },
        "id": "dTb1r_22SnDg",
        "colab_type": "code",
        "colab": {
          "base_uri": "https://localhost:8080/",
          "height": 34
        },
        "outputId": "5b795e72-ac3b-4a1d-fe9a-b37ac06c8cc2"
      },
      "source": [
        "word_count_sentence = [len(sentence.split()) for sentence in sentences]\n",
        "print(\"Average number of words in each line : {}\".format(np.average(word_count_sentence)))"
      ],
      "execution_count": 8,
      "outputs": [
        {
          "output_type": "stream",
          "text": [
            "Average number of words in each line : 11.088379076111833\n"
          ],
          "name": "stdout"
        }
      ]
    },
    {
      "cell_type": "code",
      "metadata": {
        "ExecuteTime": {
          "end_time": "2020-06-14T14:38:37.245462Z",
          "start_time": "2020-06-14T14:38:37.217469Z"
        },
        "id": "KjjIF2OOSnDj",
        "colab_type": "code",
        "colab": {
          "base_uri": "https://localhost:8080/",
          "height": 207
        },
        "outputId": "33cba1e6-f672-46d0-921b-df4800f10a60"
      },
      "source": [
        "print('\\n'.join(TEXT.split('\\n')[view_sentence_range[0]:view_sentence_range[1]]))"
      ],
      "execution_count": 9,
      "outputs": [
        {
          "output_type": "stream",
          "text": [
            "jerry: do you know what this is all about? do you know, why were here? to be out, this is out...and out is one of the single most enjoyable experiences of life. people...did you ever hear people talking about we should go out? this is what theyre talking about...this whole thing, were all out now, no one is home. not one person here is home, were all out! there are people trying to find us, they dont know where we are. (on an imaginary phone) did you ring?, i cant find him. where did he go? he didnt tell me where he was going. he must have gone out. you wanna go out you get ready, you pick out the clothes, right? you take the shower, you get all ready, get the cash, get your friends, the car, the spot, the reservation...then youre standing around, what do you do? you go we gotta be getting back. once youre out, you wanna get back! you wanna go to sleep, you wanna get up, you wanna go out again tomorrow, right? where ever you are in life, its my feeling, youve gotta go. \n",
            "\n",
            "jerry: (pointing at georges shirt) see, to me, that button is in the worst possible spot. the second button literally makes or breaks the shirt, look at it. its too high! its in no-mans-land. you look like you live with your mother. \n",
            "\n",
            "george: are you through? \n",
            "\n",
            "jerry: you do of course try on, when you buy? \n",
            "\n",
            "george: yes, it was purple, i liked it, i dont actually recall considering the buttons. \n",
            "\n"
          ],
          "name": "stdout"
        }
      ]
    },
    {
      "cell_type": "markdown",
      "metadata": {
        "id": "IN4qClJ3SnDm",
        "colab_type": "text"
      },
      "source": [
        "### Data Preprocessing"
      ]
    },
    {
      "cell_type": "code",
      "metadata": {
        "id": "xniHrv6DSnDm",
        "colab_type": "code",
        "colab": {}
      },
      "source": [
        "def create_lookup_table(text):\n",
        "    \"\"\"create lookup tables for vocabulary\"\"\"\n",
        "    unique_words = sorted(set(text))\n",
        "    vocab_to_int = {}\n",
        "    int_to_vocab = {}\n",
        "    for idx, word in enumerate(unique_words):\n",
        "        vocab_to_int[word] = idx\n",
        "        int_to_vocab[idx] = word\n",
        "    return vocab_to_int, int_to_vocab"
      ],
      "execution_count": 10,
      "outputs": []
    },
    {
      "cell_type": "code",
      "metadata": {
        "id": "wILET_pNT20q",
        "colab_type": "code",
        "colab": {}
      },
      "source": [
        "def token_lookup():\n",
        "    \"\"\"generate a dict to turn punctuation into a token.\"\"\"\n",
        "    tokens_dict = {}\n",
        "    tokens_dict[\".\"] = \"||Period||\"\n",
        "    tokens_dict[\",\"] = \"||Comma||\"\n",
        "    tokens_dict[\"\\\"\"] = \"||Quotation_Mark||\"\n",
        "    tokens_dict[\";\"] = \"||Semicolon||\"\n",
        "    tokens_dict[\"!\"] = \"||Exclamation_Mark||\"\n",
        "    tokens_dict[\"?\"] = \"||Question_Mark||\"\n",
        "    tokens_dict[\"(\"] = \"||Left_Parntheses||\"\n",
        "    tokens_dict[\")\"] = \"||Right_Parntheses||\"\n",
        "    tokens_dict[\"--\"] = \"||Dash||\"\n",
        "    tokens_dict[\"\\n\"] = \"||Return||\"\n",
        "    return tokens_dict"
      ],
      "execution_count": 11,
      "outputs": []
    },
    {
      "cell_type": "code",
      "metadata": {
        "id": "X2_1j3wqXNFo",
        "colab_type": "code",
        "colab": {}
      },
      "source": [
        "mylib.preprocess_and_save_data(data_path, token_lookup, create_lookup_table)"
      ],
      "execution_count": 12,
      "outputs": []
    },
    {
      "cell_type": "markdown",
      "metadata": {
        "id": "ybrCMGNTYqeO",
        "colab_type": "text"
      },
      "source": [
        "### Check-point 1"
      ]
    },
    {
      "cell_type": "code",
      "metadata": {
        "id": "kCS_-6qrXVQP",
        "colab_type": "code",
        "colab": {}
      },
      "source": [
        "int_text, vocab_to_int, int_to_vocab, token_dict = mylib.load_preprocess()"
      ],
      "execution_count": 13,
      "outputs": []
    },
    {
      "cell_type": "markdown",
      "metadata": {
        "id": "5YB9P5KZYyWJ",
        "colab_type": "text"
      },
      "source": [
        "### Build Neural Network"
      ]
    },
    {
      "cell_type": "code",
      "metadata": {
        "id": "qBp7kb2Gb_W6",
        "colab_type": "code",
        "colab": {}
      },
      "source": [
        "import torch\n",
        "from torch.utils.data import TensorDataset, DataLoader\n",
        "import torch.nn as nn\n",
        "import torch.nn.functional as F"
      ],
      "execution_count": 28,
      "outputs": []
    },
    {
      "cell_type": "code",
      "metadata": {
        "id": "nJDOYWLyYuHI",
        "colab_type": "code",
        "colab": {}
      },
      "source": [
        "train_on_gpu = torch.cuda.is_available()\n",
        "if not train_on_gpu:\n",
        "    print('No GPU found. Please use a GPU to train your neural network.')"
      ],
      "execution_count": 14,
      "outputs": []
    },
    {
      "cell_type": "code",
      "metadata": {
        "id": "z-raR8SpbgYe",
        "colab_type": "code",
        "colab": {}
      },
      "source": [
        "def batch_data(words, sequence_length, batch_size):\n",
        "    \"\"\"batch the neural network data using DataLoader\"\"\"\n",
        "    n_batches = len(words)//batch_size\n",
        "    words = words[:n_batches*batch_size]\n",
        "    y_len = len(words) - sequence_length\n",
        "    x, y = [], []\n",
        "    for idx in range(0, y_len):\n",
        "        idx_end = sequence_length + idx\n",
        "        x_batch = words[idx:idx_end]\n",
        "        x.append(x_batch)\n",
        "        batch_y =  words[idx_end]\n",
        "        y.append(batch_y)\n",
        "    data = TensorDataset(torch.from_numpy(np.asarray(x)), torch.from_numpy(np.asarray(y)))\n",
        "    data_loader = DataLoader(data, shuffle=False, batch_size=batch_size)\n",
        "    return data_loader"
      ],
      "execution_count": 17,
      "outputs": []
    },
    {
      "cell_type": "code",
      "metadata": {
        "id": "caBFVnP1cYqT",
        "colab_type": "code",
        "colab": {
          "base_uri": "https://localhost:8080/",
          "height": 238
        },
        "outputId": "a167cc03-069f-4a81-fa9a-65f2483c8bb0"
      },
      "source": [
        "# test-case\n",
        "test_text = range(50)\n",
        "t_loader = batch_data(test_text, sequence_length=5, batch_size=10)\n",
        "data_iter = iter(t_loader)\n",
        "sample_x, sample_y = data_iter.next()\n",
        "print(sample_x.shape)\n",
        "print(sample_x)\n",
        "print(sample_y.shape)\n",
        "print(sample_y)"
      ],
      "execution_count": 18,
      "outputs": [
        {
          "output_type": "stream",
          "text": [
            "torch.Size([10, 5])\n",
            "tensor([[ 0,  1,  2,  3,  4],\n",
            "        [ 1,  2,  3,  4,  5],\n",
            "        [ 2,  3,  4,  5,  6],\n",
            "        [ 3,  4,  5,  6,  7],\n",
            "        [ 4,  5,  6,  7,  8],\n",
            "        [ 5,  6,  7,  8,  9],\n",
            "        [ 6,  7,  8,  9, 10],\n",
            "        [ 7,  8,  9, 10, 11],\n",
            "        [ 8,  9, 10, 11, 12],\n",
            "        [ 9, 10, 11, 12, 13]])\n",
            "torch.Size([10])\n",
            "tensor([ 5,  6,  7,  8,  9, 10, 11, 12, 13, 14])\n"
          ],
          "name": "stdout"
        }
      ]
    },
    {
      "cell_type": "code",
      "metadata": {
        "id": "XkI3Ta0lchg5",
        "colab_type": "code",
        "colab": {}
      },
      "source": [
        "class RNN(nn.Module):\n",
        "    def __init__(self, vocab_size, output_size, embedding_dim, hidden_dim, n_layers, dropout=0.5, lr=0.001):\n",
        "        \"\"\"\n",
        "        :param vocab_size: The number of input dimensions of the neural network (the size of the vocabulary)\n",
        "        :param output_size: The number of output dimensions of the neural network\n",
        "        :param embedding_dim: The size of embeddings, should you choose to use them        \n",
        "        :param hidden_dim: The size of the hidden layer outputs\n",
        "        :param dropout: dropout to add in between LSTM/GRU layers\n",
        "        \"\"\"\n",
        "        super(RNN, self).__init__()\n",
        "        # embedding layer        \n",
        "        self.embedding = nn.Embedding(vocab_size, embedding_dim)\n",
        "        ## LSTM layer\n",
        "        self.lstm = nn.LSTM(embedding_dim, hidden_dim, n_layers, dropout=dropout, batch_first=True)\n",
        "        # class variables\n",
        "        self.output_size = output_size\n",
        "        self.n_layers = n_layers\n",
        "        self.hidden_dim = hidden_dim\n",
        "        # fully-connected output layer\n",
        "        self.fc = nn.Linear(hidden_dim, output_size)\n",
        "        \n",
        "    def forward(self, nn_input, hidden):\n",
        "        \"\"\"\n",
        "        Forward propagation of the neural network\n",
        "        :param nn_input: The input to the neural network\n",
        "        :param hidden: The hidden state        \n",
        "        :return: Two Tensors, the output of the neural network and the latest hidden state\n",
        "        \"\"\"\n",
        "        batch_size = nn_input.size(0)\n",
        "        # embeddings and lstm_out\n",
        "        embeds = self.embedding(nn_input)\n",
        "        lstm_out, hidden = self.lstm(embeds, hidden)\n",
        "        # stack up lstm outputs\n",
        "        lstm_out = lstm_out.contiguous().view(-1, self.hidden_dim)\n",
        "        # dropout and fully-connected layer\n",
        "        out = self.fc(lstm_out)\n",
        "        # reshape into (batch_size, seq_length, output_size)\n",
        "        out = out.view(batch_size, -1, self.output_size)\n",
        "        # get last batch\n",
        "        out = out[:, -1]\n",
        "        return out, hidden\n",
        "    \n",
        "    def init_hidden(self, batch_size):\n",
        "        '''\n",
        "        Initialize the hidden state of an LSTM/GRU\n",
        "        :param batch_size: The batch_size of the hidden state\n",
        "        :return: hidden state of dims (n_layers, batch_size, hidden_dim)\n",
        "        '''\n",
        "        weight = next(self.parameters()).data\n",
        "        if (train_on_gpu):\n",
        "            hidden = (weight.new(self.n_layers, batch_size, self.hidden_dim).zero_().cuda(),\n",
        "                  weight.new(self.n_layers, batch_size, self.hidden_dim).zero_().cuda())\n",
        "        else:\n",
        "            hidden = (weight.new(self.n_layers, batch_size, self.hidden_dim).zero_(),\n",
        "                      weight.new(self.n_layers, batch_size, self.hidden_dim).zero_())\n",
        "        return hidden"
      ],
      "execution_count": 20,
      "outputs": []
    },
    {
      "cell_type": "code",
      "metadata": {
        "id": "LptB5GeLdHKy",
        "colab_type": "code",
        "colab": {}
      },
      "source": [
        "def forward_back_prop(rnn, optimizer, criterion, inp, target, hidden):\n",
        "    \"\"\"\n",
        "    Forward and backward propagation on the neural network\n",
        "    :param decoder: The PyTorch Module that holds the neural network\n",
        "    :param decoder_optimizer: The PyTorch optimizer for the neural network\n",
        "    :param criterion: The PyTorch loss function\n",
        "    :param inp: A batch of input to the neural network\n",
        "    :param target: The target output for the batch of input\n",
        "    :return: The loss and the latest hidden state Tensor\n",
        "    \"\"\"\n",
        "    if(train_on_gpu):\n",
        "        rnn.cuda()\n",
        "    # new var for hidden state\n",
        "    h = tuple([each.data for each in hidden])\n",
        "    # zero accumulated gradients\n",
        "    rnn.zero_grad()\n",
        "    # data to cuda\n",
        "    if(train_on_gpu):\n",
        "        inputs, target = inp.cuda(), target.cuda()\n",
        "    # get predicted outputs\n",
        "    output, h = rnn(inputs, h)\n",
        "    # calculate loss\n",
        "    loss = criterion(output, target)\n",
        "    # optimizer.zero_grad()\n",
        "    loss.backward()\n",
        "    # 'clip_grad_norm' helps prevent the exploding gradient problem in RNNs / LSTMs\n",
        "    nn.utils.clip_grad_norm_(rnn.parameters(), 5)\n",
        "    optimizer.step()\n",
        "    return loss.item(), h"
      ],
      "execution_count": 21,
      "outputs": []
    },
    {
      "cell_type": "markdown",
      "metadata": {
        "id": "HxiS3Pr5dq-D",
        "colab_type": "text"
      },
      "source": [
        "### Training the Neural Network"
      ]
    },
    {
      "cell_type": "code",
      "metadata": {
        "id": "3VvU9VI2dhzR",
        "colab_type": "code",
        "colab": {}
      },
      "source": [
        "def train_rnn(rnn, batch_size, optimizer, criterion, n_epochs, show_every_n_batches=100):\n",
        "    batch_losses = []\n",
        "    rnn.train()\n",
        "    print(\"Training for %d epoch(s)...\" % n_epochs)\n",
        "    for epoch_i in range(1, n_epochs + 1):\n",
        "        # initialize hidden state\n",
        "        hidden = rnn.init_hidden(batch_size)\n",
        "        for batch_i, (inputs, labels) in enumerate(train_loader, 1):\n",
        "            # make sure you iterate over completely full batches, only\n",
        "            n_batches = len(train_loader.dataset)//batch_size\n",
        "            if(batch_i > n_batches):\n",
        "                break\n",
        "            # forward, back prop\n",
        "            loss, hidden = forward_back_prop(rnn, optimizer, criterion, inputs, labels, hidden)          \n",
        "            # record loss\n",
        "            batch_losses.append(loss)\n",
        "            # printing loss stats\n",
        "            if batch_i % show_every_n_batches == 0:\n",
        "                print('Epoch: {:>4}/{:<4}  Loss: {}\\n'.format(\n",
        "                    epoch_i, n_epochs, np.average(batch_losses)))\n",
        "                batch_losses = []\n",
        "    # returns a trained rnn\n",
        "    return rnn"
      ],
      "execution_count": 22,
      "outputs": []
    },
    {
      "cell_type": "code",
      "metadata": {
        "id": "AZ7RP_Ocd4mb",
        "colab_type": "code",
        "colab": {}
      },
      "source": [
        "# hyperparameters\n",
        "\n",
        "sequence_length = 10\n",
        "batch_size = 128\n",
        "train_loader = batch_data(int_text, sequence_length, batch_size)\n",
        "num_epochs = 10\n",
        "learning_rate = 0.001\n",
        "vocab_size = len(vocab_to_int)\n",
        "output_size = vocab_size\n",
        "embedding_dim = 200\n",
        "hidden_dim = 250\n",
        "n_layers = 2\n",
        "show_every_n_batches = 2000"
      ],
      "execution_count": 23,
      "outputs": []
    },
    {
      "cell_type": "code",
      "metadata": {
        "id": "Z4Vv0EhLe2C0",
        "colab_type": "code",
        "colab": {
          "base_uri": "https://localhost:8080/",
          "height": 1000
        },
        "outputId": "c139176c-1474-4077-ad34-78eea772e63e"
      },
      "source": [
        "# create model and move to gpu if available\n",
        "rnn = RNN(vocab_size, output_size, embedding_dim, hidden_dim, n_layers, dropout=0.5)\n",
        "if train_on_gpu:\n",
        "    rnn.cuda()\n",
        "\n",
        "# defining loss and optimization functions for training\n",
        "optimizer = torch.optim.Adam(rnn.parameters(), lr=learning_rate)\n",
        "criterion = nn.CrossEntropyLoss()\n",
        "\n",
        "# training the model\n",
        "trained_rnn = train_rnn(rnn, batch_size, optimizer, criterion, num_epochs, show_every_n_batches)\n",
        "\n",
        "# saving the trained model\n",
        "mylib.save_model('trained_rnn', trained_rnn)\n",
        "print('Model Trained and Saved.')"
      ],
      "execution_count": 25,
      "outputs": [
        {
          "output_type": "stream",
          "text": [
            "Training for 10 epoch(s)...\n",
            "Epoch:    1/10    Loss: 4.924959572196006\n",
            "\n",
            "Epoch:    1/10    Loss: 4.474561125397682\n",
            "\n",
            "Epoch:    1/10    Loss: 4.334161711931229\n",
            "\n",
            "Epoch:    2/10    Loss: 4.084947553785637\n",
            "\n",
            "Epoch:    2/10    Loss: 3.9270058200359346\n",
            "\n",
            "Epoch:    2/10    Loss: 3.8821799390316007\n",
            "\n",
            "Epoch:    3/10    Loss: 3.7825103751431595\n",
            "\n",
            "Epoch:    3/10    Loss: 3.707846811532974\n",
            "\n",
            "Epoch:    3/10    Loss: 3.679092717528343\n",
            "\n",
            "Epoch:    4/10    Loss: 3.6133324389918524\n",
            "\n",
            "Epoch:    4/10    Loss: 3.567855329632759\n",
            "\n",
            "Epoch:    4/10    Loss: 3.5341529774665834\n",
            "\n",
            "Epoch:    5/10    Loss: 3.499656192074907\n",
            "\n",
            "Epoch:    5/10    Loss: 3.4651908386945722\n",
            "\n",
            "Epoch:    5/10    Loss: 3.4292626764774323\n",
            "\n",
            "Epoch:    6/10    Loss: 3.420078241964004\n",
            "\n",
            "Epoch:    6/10    Loss: 3.3842597613334657\n",
            "\n",
            "Epoch:    6/10    Loss: 3.353777425408363\n",
            "\n",
            "Epoch:    7/10    Loss: 3.3542060119146515\n",
            "\n",
            "Epoch:    7/10    Loss: 3.320476257801056\n",
            "\n",
            "Epoch:    7/10    Loss: 3.295342052221298\n",
            "\n",
            "Epoch:    8/10    Loss: 3.3008150756971895\n",
            "\n",
            "Epoch:    8/10    Loss: 3.2713460711240767\n",
            "\n",
            "Epoch:    8/10    Loss: 3.241071085691452\n",
            "\n",
            "Epoch:    9/10    Loss: 3.256088489943616\n",
            "\n",
            "Epoch:    9/10    Loss: 3.227314666032791\n",
            "\n",
            "Epoch:    9/10    Loss: 3.198250778198242\n",
            "\n",
            "Epoch:   10/10    Loss: 3.220638523941746\n",
            "\n",
            "Epoch:   10/10    Loss: 3.1919528931379317\n",
            "\n",
            "Epoch:   10/10    Loss: 3.1625098509788514\n",
            "\n",
            "Model Trained and Saved.\n"
          ],
          "name": "stdout"
        },
        {
          "output_type": "stream",
          "text": [
            "/usr/local/lib/python3.6/dist-packages/torch/serialization.py:402: UserWarning: Couldn't retrieve source code for container of type RNN. It won't be checked for correctness upon loading.\n",
            "  \"type \" + obj.__name__ + \". It won't be checked \"\n"
          ],
          "name": "stderr"
        }
      ]
    },
    {
      "cell_type": "markdown",
      "metadata": {
        "id": "K75sbVQCfaEQ",
        "colab_type": "text"
      },
      "source": [
        "### Check-point 2"
      ]
    },
    {
      "cell_type": "code",
      "metadata": {
        "id": "uWgSUxrnfB1P",
        "colab_type": "code",
        "colab": {}
      },
      "source": [
        "_, vocab_to_int, int_to_vocab, token_dict = mylib.load_preprocess()\n",
        "trained_rnn = mylib.load_model('./save/trained_rnn')"
      ],
      "execution_count": 27,
      "outputs": []
    },
    {
      "cell_type": "markdown",
      "metadata": {
        "id": "Ml2xd8IpsR9e",
        "colab_type": "text"
      },
      "source": [
        "### Generate TV Script"
      ]
    },
    {
      "cell_type": "code",
      "metadata": {
        "id": "x3l5oUH3rv59",
        "colab_type": "code",
        "colab": {}
      },
      "source": [
        "def generate(rnn, prime_id, int_to_vocab, token_dict, pad_value, predict_len=100):\n",
        "    \"\"\"\n",
        "    Generate text using the neural network\n",
        "    :param decoder: The PyTorch Module that holds the trained neural network\n",
        "    :param prime_id: The word id to start the first prediction\n",
        "    :param int_to_vocab: Dict of word id keys to word values\n",
        "    :param token_dict: Dict of puncuation tokens keys to puncuation values\n",
        "    :param pad_value: The value used to pad a sequence\n",
        "    :param predict_len: The length of text to generate\n",
        "    :return: The generated text\n",
        "    \"\"\"\n",
        "    rnn.eval()\n",
        "    # create a sequence (batch_size=1) with the prime_id\n",
        "    current_seq = np.full((1, sequence_length), pad_value)\n",
        "    current_seq[-1][-1] = prime_id\n",
        "    predicted = [int_to_vocab[prime_id]]\n",
        "    for _ in range(predict_len):\n",
        "        if train_on_gpu:\n",
        "            current_seq = torch.LongTensor(current_seq).cuda()\n",
        "        else:\n",
        "            current_seq = torch.LongTensor(current_seq)\n",
        "        # initialize the hidden state\n",
        "        hidden = rnn.init_hidden(current_seq.size(0))\n",
        "        # get the output of the rnn\n",
        "        output, _ = rnn(current_seq, hidden)\n",
        "        # get the next word probabilities\n",
        "        p = F.softmax(output, dim=1).data\n",
        "        if(train_on_gpu):\n",
        "            p = p.cpu()\n",
        "        # use top_k sampling to get the index of the next word\n",
        "        top_k = 5\n",
        "        p, top_i = p.topk(top_k)\n",
        "        top_i = top_i.numpy().squeeze()\n",
        "        # select the likely next word index with some element of randomness\n",
        "        p = p.numpy().squeeze()\n",
        "        word_i = np.random.choice(top_i, p=p/p.sum())\n",
        "        # retrieve that word from the dictionary\n",
        "        word = int_to_vocab[word_i]\n",
        "        predicted.append(word)\n",
        "        # the generated word becomes the next \"current sequence\" and the cycle can continue\n",
        "        current_seq = np.roll(current_seq.cpu(), -1, 1)\n",
        "        current_seq[-1][-1] = word_i\n",
        "\n",
        "    gen_sentences = ' '.join(predicted)\n",
        "    # Replace punctuation tokens\n",
        "    for key, token in token_dict.items():\n",
        "        ending = ' ' if key in ['\\n', '(', '\"'] else ''\n",
        "        gen_sentences = gen_sentences.replace(' ' + token.lower(), key)\n",
        "    gen_sentences = gen_sentences.replace('\\n ', '\\n')\n",
        "    gen_sentences = gen_sentences.replace('( ', '(')\n",
        "    # return all the sentences\n",
        "    return gen_sentences"
      ],
      "execution_count": 34,
      "outputs": []
    },
    {
      "cell_type": "code",
      "metadata": {
        "id": "iQWPvCI0sgjb",
        "colab_type": "code",
        "colab": {
          "base_uri": "https://localhost:8080/",
          "height": 1000
        },
        "outputId": "e0239be5-162d-4497-8baf-48bf186ac83d"
      },
      "source": [
        "gen_length = 500\n",
        "prime_word = 'jerry'\n",
        "\n",
        "pad_word = mylib.SPECIAL_WORDS['PADDING']\n",
        "generated_script = generate(trained_rnn, vocab_to_int[prime_word + ':'], int_to_vocab, token_dict, vocab_to_int[pad_word], gen_length)\n",
        "print(generated_script)"
      ],
      "execution_count": 35,
      "outputs": [
        {
          "output_type": "stream",
          "text": [
            "jerry: the evening of the eighth county penal ]\n",
            "\n",
            "hoyt: i told him that you know what i mean.\n",
            "\n",
            "jerry: what happened?\n",
            "\n",
            "jerry: no, not really necessary.\n",
            "\n",
            "kramer: well, i think i can.\n",
            "\n",
            "jerry: oh.\n",
            "\n",
            "elaine: hey, what's the matter with you?\n",
            "\n",
            "kramer: well, it's a little less, huh?\n",
            "\n",
            "george: i can't tell you something to do it.\n",
            "\n",
            "kramer: no. i was going to be held accountable for a second.\n",
            "\n",
            "jerry: you know, i was wondering about this. it's a little adjustment.\n",
            "\n",
            "jerry: oh, i think it was a good mood - the one. i mean, if you don't have to get that car in the building.\n",
            "\n",
            "kramer: oh, that's right.\n",
            "\n",
            "kramer: yeah, that's it. i think we should have found a ride in a wheelchair to ignore him.\n",
            "\n",
            "george: oh no, no.\n",
            "\n",
            "jerry: so, what are you doing?\n",
            "\n",
            "jerry: i can't believe it. it's the one who sent the saab.\n",
            "\n",
            "jerry: i think it was a whim.\n",
            "\n",
            "elaine: oh, i was thinking that was a little problem.\n",
            "\n",
            "jerry: so, you want to get this out?\n",
            "\n",
            "hoyt: yes, yes. i mean, i don't want to know why i can.\n",
            "\n",
            "jerry: i don't even know if you could see it.\n",
            "\n",
            "george: oh no, no.\n",
            "\n",
            "stu: no!\n",
            "\n",
            "jerry: i can't stand the bathrooms.\n",
            "\n",
            "jerry: what do you think about the last day?\n",
            "\n",
            "jerry: i don't know if you were.\n",
            "\n",
            "kramer: oh, yeah, that's it.\n",
            "\n",
            "elaine: what is that?\n",
            "\n",
            "george: well, it's the only one that i had.\n",
            "\n",
            "george: i think that's the only day.\n",
            "\n",
            "elaine: oh yeah, i was in the contest, and i don't know, you know, i know.\n",
            "\n",
            "kramer: yeah, that's right. it's the moops.\n",
            "\n",
            "jerry: oh, no, no no.\n",
            "\n",
            "kramer: oh, you can't go to paris.\n",
            "\n",
            "elaine: i think that's it. it's a good call.\n",
            "\n",
            "elaine: well, you were going to be right here and i was just going to tell you that he gets flipped into the contest.\n",
            "\n",
            "jerry: what?\n",
            "\n",
            "jerry: what is the connection?\n",
            "\n",
            "jerry: i don't think so!\n",
            "\n",
            "george: i was thinking of a little commitment about it.\n",
            "\n",
            "\n"
          ],
          "name": "stdout"
        }
      ]
    },
    {
      "cell_type": "code",
      "metadata": {
        "id": "AQdyWO2ysobq",
        "colab_type": "code",
        "colab": {}
      },
      "source": [
        ""
      ],
      "execution_count": null,
      "outputs": []
    }
  ]
}